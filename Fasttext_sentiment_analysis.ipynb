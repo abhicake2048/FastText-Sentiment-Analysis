{
 "cells": [
  {
   "cell_type": "code",
   "execution_count": null,
   "id": "4cb76bcf-0b9a-49fc-b711-ab89b14a51f3",
   "metadata": {},
   "outputs": [],
   "source": [
    "# importing all relevant libraries to process our text\n",
    "import spacy\n",
    "import re\n",
    "import string\n",
    "from bs4 import BeautifulSoup\n",
    "import pandas as pd\n",
    "from sklearn.model_selection import train_test_split\n",
    "import fasttext"
   ]
  },
  {
   "cell_type": "code",
   "execution_count": 3,
   "id": "ae0f7a31-52e6-44e5-a967-dd858d0480f2",
   "metadata": {},
   "outputs": [],
   "source": [
    "from spacy.lang.en.stop_words import STOP_WORDS\n",
    "nlp = spacy.load('en_core_web_sm') # use the desired spacy model. 'sm' small, 'md' medium, 'lg' large"
   ]
  },
  {
   "cell_type": "code",
   "execution_count": 20,
   "id": "b95f39de-71cc-4dc9-8f1f-777bfbd5013c",
   "metadata": {},
   "outputs": [],
   "source": [
    "# preprocessing function to clean our text data and get it in a specific format\n",
    "def clean_text(text):\n",
    "    if not isinstance(text,str):\n",
    "        return \"\"\n",
    "    text = re.sub(r'\\d+', '', text)  # Remove numbers\n",
    "    text = text.lower()  # Lowercase\n",
    "    text = text.translate(str.maketrans('','', string.punctuation))  # Remove punctuation\n",
    "    text = re.sub(r'\\W', ' ', text)  # Remove special characters\n",
    "    text = re.sub(r'\\s{2,}',' ',text) # Remove extra spaces\n",
    "    text = BeautifulSoup(text, \"html.parser\").get_text()  # Remove HTML tags\n",
    "    #doc = nlp(text) # To tokenize the text\n",
    "    #doc1 = [token for token in doc if not token.is_stop] # To remove stop words\n",
    "    #doc2 = [token.lemma_ for token in doc1] # To get the lemmatized text\n",
    "    return text"
   ]
  },
  {
   "cell_type": "code",
   "execution_count": 38,
   "id": "e71801c9-0408-4b89-b164-6cfc50081e36",
   "metadata": {},
   "outputs": [],
   "source": [
    "df = pd.read_csv(\"twitter_training.csv\", names=[\"index\",\"game\",\"sentiment\",\"description\"],header = None) # Load our dataset\n",
    "#df = df.apply(clean_text) # Preprocess the text in the whole dataframe\n",
    "#df['game'] = df['game'].apply(lambda game: clean_text(game)) # Preprocess the text in each column\n",
    "df['sentiment'] = df[\"sentiment\"].apply(lambda sentiment: clean_text(sentiment)) # Preprocess the text in each column\n",
    "df['description'] = df[\"description\"].apply(lambda sentiment: clean_text(sentiment) )# Preprocess the text in each column"
   ]
  },
  {
   "cell_type": "code",
   "execution_count": 40,
   "id": "c9cfc0d9-b9ca-42b3-9ebd-9232867ffbdf",
   "metadata": {},
   "outputs": [],
   "source": [
    "#df[\"game\"] = \"__label__\" + df[\"game\"] # creating the labels for the fasttext format file\n",
    "df[\"sentiment\"] = \"__label__\" + df[\"sentiment\"] # creating the labels for the fasttext format file\n",
    "df[\"label_desc\"] =  df[\"sentiment\"] + \" \" + df[\"description\"] # Creating the column with the whole data for the fasttext file"
   ]
  },
  {
   "cell_type": "code",
   "execution_count": 45,
   "id": "0301d804",
   "metadata": {},
   "outputs": [],
   "source": [
    "train , test = train_test_split(df.label_desc, test_size=0.2)"
   ]
  },
  {
   "cell_type": "code",
   "execution_count": 48,
   "id": "3427da59",
   "metadata": {},
   "outputs": [],
   "source": [
    "train.to_csv(\"sentiment.txt\",header=False,index=False)\n",
    "test.to_csv(\"sentiment2.txt\",header=False,index=False)"
   ]
  },
  {
   "cell_type": "code",
   "execution_count": null,
   "id": "a073d75e-11a8-405a-8285-2c41bcf1a383",
   "metadata": {},
   "outputs": [],
   "source": [
    "model = fasttext.train_supervised(input=\"/content/sentiment.txt\",epoch=35, lr=1.0, wordNgrams=2, verbose=2) # Training the model\n",
    "model.test(\"/content/sentiment2.txt\") # Testing the model"
   ]
  },
  {
   "cell_type": "code",
   "execution_count": null,
   "id": "8b9b94aa-d2f4-4d48-9f81-71780a49c411",
   "metadata": {},
   "outputs": [],
   "source": [
    "model.save_model(\"sentiment_analysis_model.bin\") # For saving the model"
   ]
  }
 ],
 "metadata": {
  "kernelspec": {
   "display_name": "Python 3 (ipykernel)",
   "language": "python",
   "name": "python3"
  },
  "language_info": {
   "codemirror_mode": {
    "name": "ipython",
    "version": 3
   },
   "file_extension": ".py",
   "mimetype": "text/x-python",
   "name": "python",
   "nbconvert_exporter": "python",
   "pygments_lexer": "ipython3",
   "version": "3.11.4"
  }
 },
 "nbformat": 4,
 "nbformat_minor": 5
}
